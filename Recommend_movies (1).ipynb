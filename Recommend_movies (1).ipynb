{
 "cells": [
  {
   "cell_type": "code",
   "execution_count": 1,
   "metadata": {},
   "outputs": [],
   "source": [
    "import pandas as pd\n",
    "import math\n",
    "import matplotlib.pyplot as plt "
   ]
  },
  {
   "cell_type": "code",
   "execution_count": 2,
   "metadata": {},
   "outputs": [],
   "source": [
    "import numpy as np"
   ]
  },
  {
   "cell_type": "code",
   "execution_count": 3,
   "metadata": {},
   "outputs": [],
   "source": [
    "from sklearn.metrics.pairwise import cosine_similarity"
   ]
  },
  {
   "cell_type": "code",
   "execution_count": 4,
   "metadata": {},
   "outputs": [],
   "source": [
    "from sklearn.feature_extraction.text import CountVectorizer"
   ]
  },
  {
   "cell_type": "code",
   "execution_count": 5,
   "metadata": {},
   "outputs": [],
   "source": [
    "import seaborn as sns"
   ]
  },
  {
   "cell_type": "code",
   "execution_count": 6,
   "metadata": {},
   "outputs": [],
   "source": [
    "df= pd.read_csv(\"data//IMDB-Movie-Data.csv\")"
   ]
  },
  {
   "cell_type": "code",
   "execution_count": 7,
   "metadata": {},
   "outputs": [
    {
     "data": {
      "text/html": [
       "<div>\n",
       "<style scoped>\n",
       "    .dataframe tbody tr th:only-of-type {\n",
       "        vertical-align: middle;\n",
       "    }\n",
       "\n",
       "    .dataframe tbody tr th {\n",
       "        vertical-align: top;\n",
       "    }\n",
       "\n",
       "    .dataframe thead th {\n",
       "        text-align: right;\n",
       "    }\n",
       "</style>\n",
       "<table border=\"1\" class=\"dataframe\">\n",
       "  <thead>\n",
       "    <tr style=\"text-align: right;\">\n",
       "      <th></th>\n",
       "      <th>Rank</th>\n",
       "      <th>Title</th>\n",
       "      <th>Genre</th>\n",
       "      <th>Description</th>\n",
       "      <th>Director</th>\n",
       "      <th>Actors</th>\n",
       "      <th>Year</th>\n",
       "      <th>Runtime (Minutes)</th>\n",
       "      <th>Rating</th>\n",
       "      <th>Votes</th>\n",
       "      <th>Revenue (Millions)</th>\n",
       "      <th>Metascore</th>\n",
       "    </tr>\n",
       "  </thead>\n",
       "  <tbody>\n",
       "    <tr>\n",
       "      <th>0</th>\n",
       "      <td>1</td>\n",
       "      <td>Guardians of the Galaxy</td>\n",
       "      <td>Action,Adventure,Sci-Fi</td>\n",
       "      <td>A group of intergalactic criminals are forced ...</td>\n",
       "      <td>James Gunn</td>\n",
       "      <td>Chris Pratt, Vin Diesel, Bradley Cooper, Zoe S...</td>\n",
       "      <td>2014</td>\n",
       "      <td>121</td>\n",
       "      <td>8.1</td>\n",
       "      <td>757074</td>\n",
       "      <td>333.13</td>\n",
       "      <td>76.0</td>\n",
       "    </tr>\n",
       "    <tr>\n",
       "      <th>1</th>\n",
       "      <td>2</td>\n",
       "      <td>Prometheus</td>\n",
       "      <td>Adventure,Mystery,Sci-Fi</td>\n",
       "      <td>Following clues to the origin of mankind, a te...</td>\n",
       "      <td>Ridley Scott</td>\n",
       "      <td>Noomi Rapace, Logan Marshall-Green, Michael Fa...</td>\n",
       "      <td>2012</td>\n",
       "      <td>124</td>\n",
       "      <td>7.0</td>\n",
       "      <td>485820</td>\n",
       "      <td>126.46</td>\n",
       "      <td>65.0</td>\n",
       "    </tr>\n",
       "  </tbody>\n",
       "</table>\n",
       "</div>"
      ],
      "text/plain": [
       "   Rank                    Title                     Genre  \\\n",
       "0     1  Guardians of the Galaxy   Action,Adventure,Sci-Fi   \n",
       "1     2               Prometheus  Adventure,Mystery,Sci-Fi   \n",
       "\n",
       "                                         Description      Director  \\\n",
       "0  A group of intergalactic criminals are forced ...    James Gunn   \n",
       "1  Following clues to the origin of mankind, a te...  Ridley Scott   \n",
       "\n",
       "                                              Actors  Year  Runtime (Minutes)  \\\n",
       "0  Chris Pratt, Vin Diesel, Bradley Cooper, Zoe S...  2014                121   \n",
       "1  Noomi Rapace, Logan Marshall-Green, Michael Fa...  2012                124   \n",
       "\n",
       "   Rating   Votes  Revenue (Millions)  Metascore  \n",
       "0     8.1  757074              333.13       76.0  \n",
       "1     7.0  485820              126.46       65.0  "
      ]
     },
     "execution_count": 7,
     "metadata": {},
     "output_type": "execute_result"
    }
   ],
   "source": [
    "df.head(2)"
   ]
  },
  {
   "cell_type": "code",
   "execution_count": 8,
   "metadata": {},
   "outputs": [],
   "source": [
    "df[\"Movie_ID\"]= range(0,1000)"
   ]
  },
  {
   "cell_type": "code",
   "execution_count": 9,
   "metadata": {},
   "outputs": [
    {
     "data": {
      "text/html": [
       "<div>\n",
       "<style scoped>\n",
       "    .dataframe tbody tr th:only-of-type {\n",
       "        vertical-align: middle;\n",
       "    }\n",
       "\n",
       "    .dataframe tbody tr th {\n",
       "        vertical-align: top;\n",
       "    }\n",
       "\n",
       "    .dataframe thead th {\n",
       "        text-align: right;\n",
       "    }\n",
       "</style>\n",
       "<table border=\"1\" class=\"dataframe\">\n",
       "  <thead>\n",
       "    <tr style=\"text-align: right;\">\n",
       "      <th></th>\n",
       "      <th>Rank</th>\n",
       "      <th>Title</th>\n",
       "      <th>Genre</th>\n",
       "      <th>Description</th>\n",
       "      <th>Director</th>\n",
       "      <th>Actors</th>\n",
       "      <th>Year</th>\n",
       "      <th>Runtime (Minutes)</th>\n",
       "      <th>Rating</th>\n",
       "      <th>Votes</th>\n",
       "      <th>Revenue (Millions)</th>\n",
       "      <th>Metascore</th>\n",
       "      <th>Movie_ID</th>\n",
       "    </tr>\n",
       "  </thead>\n",
       "  <tbody>\n",
       "    <tr>\n",
       "      <th>0</th>\n",
       "      <td>1</td>\n",
       "      <td>Guardians of the Galaxy</td>\n",
       "      <td>Action,Adventure,Sci-Fi</td>\n",
       "      <td>A group of intergalactic criminals are forced ...</td>\n",
       "      <td>James Gunn</td>\n",
       "      <td>Chris Pratt, Vin Diesel, Bradley Cooper, Zoe S...</td>\n",
       "      <td>2014</td>\n",
       "      <td>121</td>\n",
       "      <td>8.1</td>\n",
       "      <td>757074</td>\n",
       "      <td>333.13</td>\n",
       "      <td>76.0</td>\n",
       "      <td>0</td>\n",
       "    </tr>\n",
       "    <tr>\n",
       "      <th>1</th>\n",
       "      <td>2</td>\n",
       "      <td>Prometheus</td>\n",
       "      <td>Adventure,Mystery,Sci-Fi</td>\n",
       "      <td>Following clues to the origin of mankind, a te...</td>\n",
       "      <td>Ridley Scott</td>\n",
       "      <td>Noomi Rapace, Logan Marshall-Green, Michael Fa...</td>\n",
       "      <td>2012</td>\n",
       "      <td>124</td>\n",
       "      <td>7.0</td>\n",
       "      <td>485820</td>\n",
       "      <td>126.46</td>\n",
       "      <td>65.0</td>\n",
       "      <td>1</td>\n",
       "    </tr>\n",
       "    <tr>\n",
       "      <th>2</th>\n",
       "      <td>3</td>\n",
       "      <td>Split</td>\n",
       "      <td>Horror,Thriller</td>\n",
       "      <td>Three girls are kidnapped by a man with a diag...</td>\n",
       "      <td>M. Night Shyamalan</td>\n",
       "      <td>James McAvoy, Anya Taylor-Joy, Haley Lu Richar...</td>\n",
       "      <td>2016</td>\n",
       "      <td>117</td>\n",
       "      <td>7.3</td>\n",
       "      <td>157606</td>\n",
       "      <td>138.12</td>\n",
       "      <td>62.0</td>\n",
       "      <td>2</td>\n",
       "    </tr>\n",
       "    <tr>\n",
       "      <th>3</th>\n",
       "      <td>4</td>\n",
       "      <td>Sing</td>\n",
       "      <td>Animation,Comedy,Family</td>\n",
       "      <td>In a city of humanoid animals, a hustling thea...</td>\n",
       "      <td>Christophe Lourdelet</td>\n",
       "      <td>Matthew McConaughey,Reese Witherspoon, Seth Ma...</td>\n",
       "      <td>2016</td>\n",
       "      <td>108</td>\n",
       "      <td>7.2</td>\n",
       "      <td>60545</td>\n",
       "      <td>270.32</td>\n",
       "      <td>59.0</td>\n",
       "      <td>3</td>\n",
       "    </tr>\n",
       "    <tr>\n",
       "      <th>4</th>\n",
       "      <td>5</td>\n",
       "      <td>Suicide Squad</td>\n",
       "      <td>Action,Adventure,Fantasy</td>\n",
       "      <td>A secret government agency recruits some of th...</td>\n",
       "      <td>David Ayer</td>\n",
       "      <td>Will Smith, Jared Leto, Margot Robbie, Viola D...</td>\n",
       "      <td>2016</td>\n",
       "      <td>123</td>\n",
       "      <td>6.2</td>\n",
       "      <td>393727</td>\n",
       "      <td>325.02</td>\n",
       "      <td>40.0</td>\n",
       "      <td>4</td>\n",
       "    </tr>\n",
       "  </tbody>\n",
       "</table>\n",
       "</div>"
      ],
      "text/plain": [
       "   Rank                    Title                     Genre  \\\n",
       "0     1  Guardians of the Galaxy   Action,Adventure,Sci-Fi   \n",
       "1     2               Prometheus  Adventure,Mystery,Sci-Fi   \n",
       "2     3                    Split           Horror,Thriller   \n",
       "3     4                     Sing   Animation,Comedy,Family   \n",
       "4     5            Suicide Squad  Action,Adventure,Fantasy   \n",
       "\n",
       "                                         Description              Director  \\\n",
       "0  A group of intergalactic criminals are forced ...            James Gunn   \n",
       "1  Following clues to the origin of mankind, a te...          Ridley Scott   \n",
       "2  Three girls are kidnapped by a man with a diag...    M. Night Shyamalan   \n",
       "3  In a city of humanoid animals, a hustling thea...  Christophe Lourdelet   \n",
       "4  A secret government agency recruits some of th...            David Ayer   \n",
       "\n",
       "                                              Actors  Year  Runtime (Minutes)  \\\n",
       "0  Chris Pratt, Vin Diesel, Bradley Cooper, Zoe S...  2014                121   \n",
       "1  Noomi Rapace, Logan Marshall-Green, Michael Fa...  2012                124   \n",
       "2  James McAvoy, Anya Taylor-Joy, Haley Lu Richar...  2016                117   \n",
       "3  Matthew McConaughey,Reese Witherspoon, Seth Ma...  2016                108   \n",
       "4  Will Smith, Jared Leto, Margot Robbie, Viola D...  2016                123   \n",
       "\n",
       "   Rating   Votes  Revenue (Millions)  Metascore  Movie_ID  \n",
       "0     8.1  757074              333.13       76.0         0  \n",
       "1     7.0  485820              126.46       65.0         1  \n",
       "2     7.3  157606              138.12       62.0         2  \n",
       "3     7.2   60545              270.32       59.0         3  \n",
       "4     6.2  393727              325.02       40.0         4  "
      ]
     },
     "execution_count": 9,
     "metadata": {},
     "output_type": "execute_result"
    }
   ],
   "source": [
    "df.head()"
   ]
  },
  {
   "cell_type": "code",
   "execution_count": 10,
   "metadata": {},
   "outputs": [
    {
     "data": {
      "text/plain": [
       "(1000, 13)"
      ]
     },
     "execution_count": 10,
     "metadata": {},
     "output_type": "execute_result"
    }
   ],
   "source": [
    "df.shape"
   ]
  },
  {
   "cell_type": "code",
   "execution_count": 11,
   "metadata": {},
   "outputs": [],
   "source": [
    "col = [\"Title\",\"Genre\",\"Director\",\"Actors\",\"Rating\"]"
   ]
  },
  {
   "cell_type": "code",
   "execution_count": 12,
   "metadata": {},
   "outputs": [
    {
     "data": {
      "text/html": [
       "<div>\n",
       "<style scoped>\n",
       "    .dataframe tbody tr th:only-of-type {\n",
       "        vertical-align: middle;\n",
       "    }\n",
       "\n",
       "    .dataframe tbody tr th {\n",
       "        vertical-align: top;\n",
       "    }\n",
       "\n",
       "    .dataframe thead th {\n",
       "        text-align: right;\n",
       "    }\n",
       "</style>\n",
       "<table border=\"1\" class=\"dataframe\">\n",
       "  <thead>\n",
       "    <tr style=\"text-align: right;\">\n",
       "      <th></th>\n",
       "      <th>Title</th>\n",
       "      <th>Genre</th>\n",
       "      <th>Director</th>\n",
       "      <th>Actors</th>\n",
       "      <th>Rating</th>\n",
       "    </tr>\n",
       "  </thead>\n",
       "  <tbody>\n",
       "    <tr>\n",
       "      <th>0</th>\n",
       "      <td>Guardians of the Galaxy</td>\n",
       "      <td>Action,Adventure,Sci-Fi</td>\n",
       "      <td>James Gunn</td>\n",
       "      <td>Chris Pratt, Vin Diesel, Bradley Cooper, Zoe S...</td>\n",
       "      <td>8.1</td>\n",
       "    </tr>\n",
       "    <tr>\n",
       "      <th>1</th>\n",
       "      <td>Prometheus</td>\n",
       "      <td>Adventure,Mystery,Sci-Fi</td>\n",
       "      <td>Ridley Scott</td>\n",
       "      <td>Noomi Rapace, Logan Marshall-Green, Michael Fa...</td>\n",
       "      <td>7.0</td>\n",
       "    </tr>\n",
       "    <tr>\n",
       "      <th>2</th>\n",
       "      <td>Split</td>\n",
       "      <td>Horror,Thriller</td>\n",
       "      <td>M. Night Shyamalan</td>\n",
       "      <td>James McAvoy, Anya Taylor-Joy, Haley Lu Richar...</td>\n",
       "      <td>7.3</td>\n",
       "    </tr>\n",
       "    <tr>\n",
       "      <th>3</th>\n",
       "      <td>Sing</td>\n",
       "      <td>Animation,Comedy,Family</td>\n",
       "      <td>Christophe Lourdelet</td>\n",
       "      <td>Matthew McConaughey,Reese Witherspoon, Seth Ma...</td>\n",
       "      <td>7.2</td>\n",
       "    </tr>\n",
       "    <tr>\n",
       "      <th>4</th>\n",
       "      <td>Suicide Squad</td>\n",
       "      <td>Action,Adventure,Fantasy</td>\n",
       "      <td>David Ayer</td>\n",
       "      <td>Will Smith, Jared Leto, Margot Robbie, Viola D...</td>\n",
       "      <td>6.2</td>\n",
       "    </tr>\n",
       "    <tr>\n",
       "      <th>...</th>\n",
       "      <td>...</td>\n",
       "      <td>...</td>\n",
       "      <td>...</td>\n",
       "      <td>...</td>\n",
       "      <td>...</td>\n",
       "    </tr>\n",
       "    <tr>\n",
       "      <th>995</th>\n",
       "      <td>Secret in Their Eyes</td>\n",
       "      <td>Crime,Drama,Mystery</td>\n",
       "      <td>Billy Ray</td>\n",
       "      <td>Chiwetel Ejiofor, Nicole Kidman, Julia Roberts...</td>\n",
       "      <td>6.2</td>\n",
       "    </tr>\n",
       "    <tr>\n",
       "      <th>996</th>\n",
       "      <td>Hostel: Part II</td>\n",
       "      <td>Horror</td>\n",
       "      <td>Eli Roth</td>\n",
       "      <td>Lauren German, Heather Matarazzo, Bijou Philli...</td>\n",
       "      <td>5.5</td>\n",
       "    </tr>\n",
       "    <tr>\n",
       "      <th>997</th>\n",
       "      <td>Step Up 2: The Streets</td>\n",
       "      <td>Drama,Music,Romance</td>\n",
       "      <td>Jon M. Chu</td>\n",
       "      <td>Robert Hoffman, Briana Evigan, Cassie Ventura,...</td>\n",
       "      <td>6.2</td>\n",
       "    </tr>\n",
       "    <tr>\n",
       "      <th>998</th>\n",
       "      <td>Search Party</td>\n",
       "      <td>Adventure,Comedy</td>\n",
       "      <td>Scot Armstrong</td>\n",
       "      <td>Adam Pally, T.J. Miller, Thomas Middleditch,Sh...</td>\n",
       "      <td>5.6</td>\n",
       "    </tr>\n",
       "    <tr>\n",
       "      <th>999</th>\n",
       "      <td>Nine Lives</td>\n",
       "      <td>Comedy,Family,Fantasy</td>\n",
       "      <td>Barry Sonnenfeld</td>\n",
       "      <td>Kevin Spacey, Jennifer Garner, Robbie Amell,Ch...</td>\n",
       "      <td>5.3</td>\n",
       "    </tr>\n",
       "  </tbody>\n",
       "</table>\n",
       "<p>1000 rows × 5 columns</p>\n",
       "</div>"
      ],
      "text/plain": [
       "                       Title                     Genre              Director  \\\n",
       "0    Guardians of the Galaxy   Action,Adventure,Sci-Fi            James Gunn   \n",
       "1                 Prometheus  Adventure,Mystery,Sci-Fi          Ridley Scott   \n",
       "2                      Split           Horror,Thriller    M. Night Shyamalan   \n",
       "3                       Sing   Animation,Comedy,Family  Christophe Lourdelet   \n",
       "4              Suicide Squad  Action,Adventure,Fantasy            David Ayer   \n",
       "..                       ...                       ...                   ...   \n",
       "995     Secret in Their Eyes       Crime,Drama,Mystery             Billy Ray   \n",
       "996          Hostel: Part II                    Horror              Eli Roth   \n",
       "997   Step Up 2: The Streets       Drama,Music,Romance            Jon M. Chu   \n",
       "998             Search Party          Adventure,Comedy        Scot Armstrong   \n",
       "999               Nine Lives     Comedy,Family,Fantasy      Barry Sonnenfeld   \n",
       "\n",
       "                                                Actors  Rating  \n",
       "0    Chris Pratt, Vin Diesel, Bradley Cooper, Zoe S...     8.1  \n",
       "1    Noomi Rapace, Logan Marshall-Green, Michael Fa...     7.0  \n",
       "2    James McAvoy, Anya Taylor-Joy, Haley Lu Richar...     7.3  \n",
       "3    Matthew McConaughey,Reese Witherspoon, Seth Ma...     7.2  \n",
       "4    Will Smith, Jared Leto, Margot Robbie, Viola D...     6.2  \n",
       "..                                                 ...     ...  \n",
       "995  Chiwetel Ejiofor, Nicole Kidman, Julia Roberts...     6.2  \n",
       "996  Lauren German, Heather Matarazzo, Bijou Philli...     5.5  \n",
       "997  Robert Hoffman, Briana Evigan, Cassie Ventura,...     6.2  \n",
       "998  Adam Pally, T.J. Miller, Thomas Middleditch,Sh...     5.6  \n",
       "999  Kevin Spacey, Jennifer Garner, Robbie Amell,Ch...     5.3  \n",
       "\n",
       "[1000 rows x 5 columns]"
      ]
     },
     "execution_count": 12,
     "metadata": {},
     "output_type": "execute_result"
    }
   ],
   "source": [
    "df[col]"
   ]
  },
  {
   "cell_type": "code",
   "execution_count": null,
   "metadata": {},
   "outputs": [],
   "source": []
  },
  {
   "cell_type": "code",
   "execution_count": 13,
   "metadata": {},
   "outputs": [
    {
     "data": {
      "text/plain": [
       "Title       False\n",
       "Genre       False\n",
       "Director    False\n",
       "Actors      False\n",
       "Rating      False\n",
       "dtype: bool"
      ]
     },
     "execution_count": 13,
     "metadata": {},
     "output_type": "execute_result"
    }
   ],
   "source": [
    "df[col].isna().any()"
   ]
  },
  {
   "cell_type": "code",
   "execution_count": 14,
   "metadata": {},
   "outputs": [],
   "source": [
    "def get_imp_features(data):\n",
    "    imp_fet=[]\n",
    "    for i in range(0,data.shape[0]):\n",
    "        imp_fet.append(data[\"Title\"][i]+\" \"+data[\"Genre\"][i]+\" \"+data[\"Director\"][i]+ \" \"+data[\"Actors\"][i]+\" \"+str(data[\"Rating\"][i])\n",
    "                        )\n",
    "    \n",
    "    return imp_fet"
   ]
  },
  {
   "cell_type": "code",
   "execution_count": 15,
   "metadata": {},
   "outputs": [],
   "source": [
    "df[\"Important_Features\"]= get_imp_features(df)"
   ]
  },
  {
   "cell_type": "code",
   "execution_count": 16,
   "metadata": {},
   "outputs": [
    {
     "data": {
      "text/html": [
       "<div>\n",
       "<style scoped>\n",
       "    .dataframe tbody tr th:only-of-type {\n",
       "        vertical-align: middle;\n",
       "    }\n",
       "\n",
       "    .dataframe tbody tr th {\n",
       "        vertical-align: top;\n",
       "    }\n",
       "\n",
       "    .dataframe thead th {\n",
       "        text-align: right;\n",
       "    }\n",
       "</style>\n",
       "<table border=\"1\" class=\"dataframe\">\n",
       "  <thead>\n",
       "    <tr style=\"text-align: right;\">\n",
       "      <th></th>\n",
       "      <th>Rank</th>\n",
       "      <th>Title</th>\n",
       "      <th>Genre</th>\n",
       "      <th>Description</th>\n",
       "      <th>Director</th>\n",
       "      <th>Actors</th>\n",
       "      <th>Year</th>\n",
       "      <th>Runtime (Minutes)</th>\n",
       "      <th>Rating</th>\n",
       "      <th>Votes</th>\n",
       "      <th>Revenue (Millions)</th>\n",
       "      <th>Metascore</th>\n",
       "      <th>Movie_ID</th>\n",
       "      <th>Important_Features</th>\n",
       "    </tr>\n",
       "  </thead>\n",
       "  <tbody>\n",
       "    <tr>\n",
       "      <th>0</th>\n",
       "      <td>1</td>\n",
       "      <td>Guardians of the Galaxy</td>\n",
       "      <td>Action,Adventure,Sci-Fi</td>\n",
       "      <td>A group of intergalactic criminals are forced ...</td>\n",
       "      <td>James Gunn</td>\n",
       "      <td>Chris Pratt, Vin Diesel, Bradley Cooper, Zoe S...</td>\n",
       "      <td>2014</td>\n",
       "      <td>121</td>\n",
       "      <td>8.1</td>\n",
       "      <td>757074</td>\n",
       "      <td>333.13</td>\n",
       "      <td>76.0</td>\n",
       "      <td>0</td>\n",
       "      <td>Guardians of the Galaxy Action,Adventure,Sci-F...</td>\n",
       "    </tr>\n",
       "    <tr>\n",
       "      <th>1</th>\n",
       "      <td>2</td>\n",
       "      <td>Prometheus</td>\n",
       "      <td>Adventure,Mystery,Sci-Fi</td>\n",
       "      <td>Following clues to the origin of mankind, a te...</td>\n",
       "      <td>Ridley Scott</td>\n",
       "      <td>Noomi Rapace, Logan Marshall-Green, Michael Fa...</td>\n",
       "      <td>2012</td>\n",
       "      <td>124</td>\n",
       "      <td>7.0</td>\n",
       "      <td>485820</td>\n",
       "      <td>126.46</td>\n",
       "      <td>65.0</td>\n",
       "      <td>1</td>\n",
       "      <td>Prometheus Adventure,Mystery,Sci-Fi Ridley Sco...</td>\n",
       "    </tr>\n",
       "    <tr>\n",
       "      <th>2</th>\n",
       "      <td>3</td>\n",
       "      <td>Split</td>\n",
       "      <td>Horror,Thriller</td>\n",
       "      <td>Three girls are kidnapped by a man with a diag...</td>\n",
       "      <td>M. Night Shyamalan</td>\n",
       "      <td>James McAvoy, Anya Taylor-Joy, Haley Lu Richar...</td>\n",
       "      <td>2016</td>\n",
       "      <td>117</td>\n",
       "      <td>7.3</td>\n",
       "      <td>157606</td>\n",
       "      <td>138.12</td>\n",
       "      <td>62.0</td>\n",
       "      <td>2</td>\n",
       "      <td>Split Horror,Thriller M. Night Shyamalan James...</td>\n",
       "    </tr>\n",
       "    <tr>\n",
       "      <th>3</th>\n",
       "      <td>4</td>\n",
       "      <td>Sing</td>\n",
       "      <td>Animation,Comedy,Family</td>\n",
       "      <td>In a city of humanoid animals, a hustling thea...</td>\n",
       "      <td>Christophe Lourdelet</td>\n",
       "      <td>Matthew McConaughey,Reese Witherspoon, Seth Ma...</td>\n",
       "      <td>2016</td>\n",
       "      <td>108</td>\n",
       "      <td>7.2</td>\n",
       "      <td>60545</td>\n",
       "      <td>270.32</td>\n",
       "      <td>59.0</td>\n",
       "      <td>3</td>\n",
       "      <td>Sing Animation,Comedy,Family Christophe Lourde...</td>\n",
       "    </tr>\n",
       "    <tr>\n",
       "      <th>4</th>\n",
       "      <td>5</td>\n",
       "      <td>Suicide Squad</td>\n",
       "      <td>Action,Adventure,Fantasy</td>\n",
       "      <td>A secret government agency recruits some of th...</td>\n",
       "      <td>David Ayer</td>\n",
       "      <td>Will Smith, Jared Leto, Margot Robbie, Viola D...</td>\n",
       "      <td>2016</td>\n",
       "      <td>123</td>\n",
       "      <td>6.2</td>\n",
       "      <td>393727</td>\n",
       "      <td>325.02</td>\n",
       "      <td>40.0</td>\n",
       "      <td>4</td>\n",
       "      <td>Suicide Squad Action,Adventure,Fantasy David A...</td>\n",
       "    </tr>\n",
       "  </tbody>\n",
       "</table>\n",
       "</div>"
      ],
      "text/plain": [
       "   Rank                    Title                     Genre  \\\n",
       "0     1  Guardians of the Galaxy   Action,Adventure,Sci-Fi   \n",
       "1     2               Prometheus  Adventure,Mystery,Sci-Fi   \n",
       "2     3                    Split           Horror,Thriller   \n",
       "3     4                     Sing   Animation,Comedy,Family   \n",
       "4     5            Suicide Squad  Action,Adventure,Fantasy   \n",
       "\n",
       "                                         Description              Director  \\\n",
       "0  A group of intergalactic criminals are forced ...            James Gunn   \n",
       "1  Following clues to the origin of mankind, a te...          Ridley Scott   \n",
       "2  Three girls are kidnapped by a man with a diag...    M. Night Shyamalan   \n",
       "3  In a city of humanoid animals, a hustling thea...  Christophe Lourdelet   \n",
       "4  A secret government agency recruits some of th...            David Ayer   \n",
       "\n",
       "                                              Actors  Year  Runtime (Minutes)  \\\n",
       "0  Chris Pratt, Vin Diesel, Bradley Cooper, Zoe S...  2014                121   \n",
       "1  Noomi Rapace, Logan Marshall-Green, Michael Fa...  2012                124   \n",
       "2  James McAvoy, Anya Taylor-Joy, Haley Lu Richar...  2016                117   \n",
       "3  Matthew McConaughey,Reese Witherspoon, Seth Ma...  2016                108   \n",
       "4  Will Smith, Jared Leto, Margot Robbie, Viola D...  2016                123   \n",
       "\n",
       "   Rating   Votes  Revenue (Millions)  Metascore  Movie_ID  \\\n",
       "0     8.1  757074              333.13       76.0         0   \n",
       "1     7.0  485820              126.46       65.0         1   \n",
       "2     7.3  157606              138.12       62.0         2   \n",
       "3     7.2   60545              270.32       59.0         3   \n",
       "4     6.2  393727              325.02       40.0         4   \n",
       "\n",
       "                                  Important_Features  \n",
       "0  Guardians of the Galaxy Action,Adventure,Sci-F...  \n",
       "1  Prometheus Adventure,Mystery,Sci-Fi Ridley Sco...  \n",
       "2  Split Horror,Thriller M. Night Shyamalan James...  \n",
       "3  Sing Animation,Comedy,Family Christophe Lourde...  \n",
       "4  Suicide Squad Action,Adventure,Fantasy David A...  "
      ]
     },
     "execution_count": 16,
     "metadata": {},
     "output_type": "execute_result"
    }
   ],
   "source": [
    "df.head()"
   ]
  },
  {
   "cell_type": "code",
   "execution_count": 17,
   "metadata": {},
   "outputs": [],
   "source": [
    "cm = CountVectorizer().fit_transform(df[\"Important_Features\"])"
   ]
  },
  {
   "cell_type": "code",
   "execution_count": 18,
   "metadata": {},
   "outputs": [],
   "source": [
    "cs = cosine_similarity(cm)"
   ]
  },
  {
   "cell_type": "code",
   "execution_count": 19,
   "metadata": {},
   "outputs": [
    {
     "name": "stdout",
     "output_type": "stream",
     "text": [
      "[[1.         0.1767767  0.06085806 ... 0.0571662  0.06537205 0.        ]\n",
      " [0.1767767  1.         0.         ... 0.         0.06933752 0.        ]\n",
      " [0.06085806 0.         1.         ... 0.         0.         0.        ]\n",
      " ...\n",
      " [0.0571662  0.         0.         ... 1.         0.06726728 0.        ]\n",
      " [0.06537205 0.06933752 0.         ... 0.06726728 1.         0.07161149]\n",
      " [0.         0.         0.         ... 0.         0.07161149 1.        ]]\n"
     ]
    }
   ],
   "source": [
    "print(cs)"
   ]
  },
  {
   "cell_type": "code",
   "execution_count": 20,
   "metadata": {},
   "outputs": [
    {
     "data": {
      "text/plain": [
       "(1000, 1000)"
      ]
     },
     "execution_count": 20,
     "metadata": {},
     "output_type": "execute_result"
    }
   ],
   "source": [
    "cs.shape"
   ]
  },
  {
   "cell_type": "code",
   "execution_count": 21,
   "metadata": {},
   "outputs": [],
   "source": [
    "title = \"The Prestige\""
   ]
  },
  {
   "cell_type": "code",
   "execution_count": 31,
   "metadata": {},
   "outputs": [],
   "source": [
    "movie_id = df[df[\"Title\"]== title][\"Movie_ID\"].values[0]"
   ]
  },
  {
   "cell_type": "code",
   "execution_count": 23,
   "metadata": {},
   "outputs": [
    {
     "data": {
      "text/plain": [
       "64"
      ]
     },
     "execution_count": 23,
     "metadata": {},
     "output_type": "execute_result"
    }
   ],
   "source": [
    "movie_id"
   ]
  },
  {
   "cell_type": "code",
   "execution_count": 24,
   "metadata": {},
   "outputs": [],
   "source": [
    "scores=list(enumerate(cs[movie_id]))"
   ]
  },
  {
   "cell_type": "code",
   "execution_count": 25,
   "metadata": {},
   "outputs": [],
   "source": [
    "sorted_scores = sorted(scores,key = lambda x:x[1],reverse = True)"
   ]
  },
  {
   "cell_type": "code",
   "execution_count": 26,
   "metadata": {},
   "outputs": [],
   "source": [
    "sorted_scores = sorted_scores[1:]"
   ]
  },
  {
   "cell_type": "code",
   "execution_count": 27,
   "metadata": {},
   "outputs": [
    {
     "name": "stdout",
     "output_type": "stream",
     "text": [
      "[(54, 0.5), (774, 0.375), (494, 0.3535533905932738), (19, 0.32274861218395134), (36, 0.32274861218395134), (173, 0.32274861218395134), (463, 0.32274861218395134), (76, 0.3125), (124, 0.3125), (545, 0.3125), (246, 0.30316953129541624), (388, 0.30316953129541624), (655, 0.30316953129541624), (216, 0.2867696673382022), (223, 0.2727723627949905), (90, 0.2672612419124244), (598, 0.2581988897471611), (759, 0.2581988897471611), (1, 0.25), (70, 0.25), (80, 0.25), (97, 0.25), (102, 0.25), (109, 0.25), (142, 0.25), (257, 0.25), (475, 0.25), (481, 0.25), (533, 0.25), (553, 0.25), (644, 0.25), (697, 0.25), (853, 0.25), (267, 0.24253562503633297), (268, 0.24253562503633297), (852, 0.24253562503633297), (962, 0.24253562503633297), (371, 0.23570226039551587), (35, 0.22941573387056174), (162, 0.22941573387056174), (710, 0.22941573387056174), (961, 0.22941573387056174), (62, 0.22360679774997896), (566, 0.22360679774997896), (293, 0.2004459314343183), (329, 0.2004459314343183), (347, 0.2004459314343183), (370, 0.2004459314343183), (497, 0.2004459314343183), (503, 0.2004459314343183), (517, 0.2004459314343183), (703, 0.2004459314343183), (856, 0.2004459314343183), (945, 0.2004459314343183), (121, 0.19364916731037082), (212, 0.19364916731037082), (229, 0.19364916731037082), (245, 0.19364916731037082), (509, 0.19364916731037082), (512, 0.19364916731037082), (521, 0.19364916731037082), (526, 0.19364916731037082), (592, 0.19364916731037082), (627, 0.19364916731037082), (727, 0.19364916731037082), (738, 0.19364916731037082), (796, 0.19364916731037082), (815, 0.19364916731037082), (884, 0.19364916731037082), (892, 0.19364916731037082), (904, 0.19364916731037082), (908, 0.19364916731037082), (32, 0.1875), (190, 0.1875), (193, 0.1875), (205, 0.1875), (315, 0.1875), (404, 0.1875), (405, 0.1875), (490, 0.1875), (541, 0.1875), (542, 0.1875), (552, 0.1875), (636, 0.1875), (764, 0.1875), (775, 0.1875), (781, 0.1875), (838, 0.1875), (913, 0.1875), (65, 0.18190171877724973), (88, 0.18190171877724973), (107, 0.18190171877724973), (112, 0.18190171877724973), (151, 0.18190171877724973), (154, 0.18190171877724973), (326, 0.18190171877724973), (396, 0.18190171877724973), (495, 0.18190171877724973), (516, 0.18190171877724973), (626, 0.18190171877724973), (628, 0.18190171877724973), (700, 0.18190171877724973), (706, 0.18190171877724973), (798, 0.18190171877724973), (799, 0.18190171877724973), (938, 0.18190171877724973), (0, 0.1767766952966369), (61, 0.1767766952966369), (126, 0.1767766952966369), (253, 0.1767766952966369), (316, 0.1767766952966369), (590, 0.1767766952966369), (761, 0.1767766952966369), (773, 0.1767766952966369), (821, 0.1767766952966369), (875, 0.1767766952966369), (34, 0.1720618004029213), (43, 0.1720618004029213), (111, 0.1720618004029213), (195, 0.1720618004029213), (429, 0.1720618004029213), (604, 0.1720618004029213), (893, 0.1720618004029213), (952, 0.1720618004029213), (114, 0.16770509831248423), (500, 0.16770509831248423), (822, 0.16770509831248423), (978, 0.16770509831248423), (135, 0.1636634176769943), (209, 0.1636634176769943), (260, 0.1636634176769943), (408, 0.1636634176769943), (510, 0.1636634176769943), (680, 0.1636634176769943), (259, 0.1563858105428061), (614, 0.1563858105428061), (176, 0.15000000000000002), (313, 0.14708710135363803), (613, 0.14708710135363803), (148, 0.1386750490563073), (350, 0.1386750490563073), (377, 0.1386750490563073), (419, 0.1386750490563073), (421, 0.1386750490563073), (437, 0.1386750490563073), (659, 0.1386750490563073), (692, 0.1386750490563073), (816, 0.1386750490563073), (890, 0.1386750490563073), (932, 0.1386750490563073), (3, 0.1336306209562122), (9, 0.1336306209562122), (26, 0.1336306209562122), (49, 0.1336306209562122), (73, 0.1336306209562122), (89, 0.1336306209562122), (92, 0.1336306209562122), (183, 0.1336306209562122), (192, 0.1336306209562122), (240, 0.1336306209562122), (256, 0.1336306209562122), (295, 0.1336306209562122), (312, 0.1336306209562122), (352, 0.1336306209562122), (392, 0.1336306209562122), (416, 0.1336306209562122), (417, 0.1336306209562122), (444, 0.1336306209562122), (446, 0.1336306209562122), (452, 0.1336306209562122), (459, 0.1336306209562122), (492, 0.1336306209562122), (511, 0.1336306209562122), (554, 0.1336306209562122), (565, 0.1336306209562122), (611, 0.1336306209562122), (638, 0.1336306209562122), (654, 0.1336306209562122), (666, 0.1336306209562122), (684, 0.1336306209562122), (750, 0.1336306209562122), (763, 0.1336306209562122), (786, 0.1336306209562122), (859, 0.1336306209562122), (882, 0.1336306209562122), (920, 0.1336306209562122), (946, 0.1336306209562122), (947, 0.1336306209562122), (951, 0.1336306209562122), (971, 0.1336306209562122), (21, 0.12909944487358055), (29, 0.12909944487358055), (31, 0.12909944487358055), (46, 0.12909944487358055), (99, 0.12909944487358055), (137, 0.12909944487358055), (140, 0.12909944487358055), (147, 0.12909944487358055), (178, 0.12909944487358055), (213, 0.12909944487358055), (226, 0.12909944487358055), (227, 0.12909944487358055), (237, 0.12909944487358055), (254, 0.12909944487358055), (298, 0.12909944487358055), (324, 0.12909944487358055), (354, 0.12909944487358055), (391, 0.12909944487358055), (398, 0.12909944487358055), (415, 0.12909944487358055), (456, 0.12909944487358055), (468, 0.12909944487358055), (472, 0.12909944487358055), (479, 0.12909944487358055), (536, 0.12909944487358055), (540, 0.12909944487358055), (559, 0.12909944487358055), (567, 0.12909944487358055), (572, 0.12909944487358055), (577, 0.12909944487358055), (588, 0.12909944487358055), (616, 0.12909944487358055), (651, 0.12909944487358055), (663, 0.12909944487358055), (668, 0.12909944487358055), (687, 0.12909944487358055), (707, 0.12909944487358055), (709, 0.12909944487358055), (713, 0.12909944487358055), (715, 0.12909944487358055), (717, 0.12909944487358055), (731, 0.12909944487358055), (735, 0.12909944487358055), (755, 0.12909944487358055), (766, 0.12909944487358055), (768, 0.12909944487358055), (805, 0.12909944487358055), (823, 0.12909944487358055), (832, 0.12909944487358055), (855, 0.12909944487358055), (897, 0.12909944487358055), (929, 0.12909944487358055), (944, 0.12909944487358055), (949, 0.12909944487358055), (965, 0.12909944487358055), (12, 0.125), (83, 0.125), (98, 0.125), (125, 0.125), (129, 0.125), (131, 0.125), (168, 0.125), (198, 0.125), (220, 0.125), (249, 0.125), (283, 0.125), (287, 0.125), (297, 0.125), (307, 0.125), (323, 0.125), (374, 0.125), (389, 0.125), (427, 0.125), (436, 0.125), (454, 0.125), (461, 0.125), (528, 0.125), (529, 0.125), (532, 0.125), (555, 0.125), (576, 0.125), (579, 0.125), (601, 0.125), (612, 0.125), (658, 0.125), (661, 0.125), (672, 0.125), (673, 0.125), (677, 0.125), (685, 0.125), (724, 0.125), (733, 0.125), (835, 0.125), (847, 0.125), (886, 0.125), (887, 0.125), (924, 0.125), (927, 0.125), (940, 0.125), (954, 0.125), (957, 0.125), (959, 0.125), (960, 0.125), (979, 0.125), (24, 0.12126781251816648), (48, 0.12126781251816648), (85, 0.12126781251816648), (197, 0.12126781251816648), (200, 0.12126781251816648), (203, 0.12126781251816648), (235, 0.12126781251816648), (238, 0.12126781251816648), (310, 0.12126781251816648), (338, 0.12126781251816648), (357, 0.12126781251816648), (362, 0.12126781251816648), (367, 0.12126781251816648), (450, 0.12126781251816648), (491, 0.12126781251816648), (525, 0.12126781251816648), (550, 0.12126781251816648), (633, 0.12126781251816648), (645, 0.12126781251816648), (689, 0.12126781251816648), (690, 0.12126781251816648), (762, 0.12126781251816648), (779, 0.12126781251816648), (807, 0.12126781251816648), (878, 0.12126781251816648), (917, 0.12126781251816648), (941, 0.12126781251816648), (976, 0.12126781251816648), (982, 0.12126781251816648), (992, 0.12126781251816648), (995, 0.12126781251816648), (997, 0.12126781251816648), (67, 0.11785113019775793), (132, 0.11785113019775793), (146, 0.11785113019775793), (155, 0.11785113019775793), (181, 0.11785113019775793), (234, 0.11785113019775793), (243, 0.11785113019775793), (279, 0.11785113019775793), (302, 0.11785113019775793), (395, 0.11785113019775793), (447, 0.11785113019775793), (556, 0.11785113019775793), (564, 0.11785113019775793), (568, 0.11785113019775793), (595, 0.11785113019775793), (640, 0.11785113019775793), (674, 0.11785113019775793), (708, 0.11785113019775793), (864, 0.11785113019775793), (867, 0.11785113019775793), (918, 0.11785113019775793), (939, 0.11785113019775793), (948, 0.11785113019775793), (990, 0.11785113019775793), (60, 0.11470786693528087), (156, 0.11470786693528087), (158, 0.11470786693528087), (366, 0.11470786693528087), (425, 0.11470786693528087), (460, 0.11470786693528087), (681, 0.11470786693528087), (742, 0.11470786693528087), (906, 0.11470786693528087), (921, 0.11470786693528087), (925, 0.11470786693528087), (118, 0.11180339887498948), (473, 0.11180339887498948), (476, 0.11180339887498948), (518, 0.11180339887498948), (546, 0.11180339887498948), (662, 0.11180339887498948), (953, 0.11180339887498948), (94, 0.1091089451179962), (145, 0.1091089451179962), (558, 0.1091089451179962), (578, 0.1091089451179962), (679, 0.1091089451179962), (843, 0.1091089451179962), (327, 0.10660035817780521), (650, 0.10660035817780521), (739, 0.10660035817780521), (911, 0.10660035817780521), (950, 0.10660035817780521), (308, 0.10425720702853739), (314, 0.10425720702853739), (619, 0.10425720702853739), (632, 0.10425720702853739), (244, 0.10206207261596577), (629, 0.10206207261596577), (767, 0.10206207261596577), (757, 0.07537783614444091), (41, 0.07216878364870323), (68, 0.07216878364870323), (133, 0.07216878364870323), (143, 0.07216878364870323), (430, 0.07216878364870323), (656, 0.07216878364870323), (863, 0.07216878364870323), (926, 0.07216878364870323), (933, 0.07216878364870323), (18, 0.06933752452815364), (44, 0.06933752452815364), (59, 0.06933752452815364), (72, 0.06933752452815364), (152, 0.06933752452815364), (185, 0.06933752452815364), (207, 0.06933752452815364), (225, 0.06933752452815364), (251, 0.06933752452815364), (255, 0.06933752452815364), (317, 0.06933752452815364), (351, 0.06933752452815364), (361, 0.06933752452815364), (365, 0.06933752452815364), (381, 0.06933752452815364), (441, 0.06933752452815364), (462, 0.06933752452815364), (467, 0.06933752452815364), (501, 0.06933752452815364), (544, 0.06933752452815364), (549, 0.06933752452815364), (586, 0.06933752452815364), (591, 0.06933752452815364), (605, 0.06933752452815364), (606, 0.06933752452815364), (608, 0.06933752452815364), (622, 0.06933752452815364), (631, 0.06933752452815364), (637, 0.06933752452815364), (646, 0.06933752452815364), (664, 0.06933752452815364), (678, 0.06933752452815364), (686, 0.06933752452815364), (730, 0.06933752452815364), (740, 0.06933752452815364), (751, 0.06933752452815364), (769, 0.06933752452815364), (842, 0.06933752452815364), (845, 0.06933752452815364), (849, 0.06933752452815364), (866, 0.06933752452815364), (877, 0.06933752452815364), (909, 0.06933752452815364), (937, 0.06933752452815364), (964, 0.06933752452815364), (973, 0.06933752452815364), (30, 0.0668153104781061), (47, 0.0668153104781061), (52, 0.0668153104781061), (55, 0.0668153104781061), (66, 0.0668153104781061), (71, 0.0668153104781061), (81, 0.0668153104781061), (100, 0.0668153104781061), (103, 0.0668153104781061), (106, 0.0668153104781061), (108, 0.0668153104781061), (127, 0.0668153104781061), (138, 0.0668153104781061), (144, 0.0668153104781061), (165, 0.0668153104781061), (170, 0.0668153104781061), (175, 0.0668153104781061), (188, 0.0668153104781061), (189, 0.0668153104781061), (191, 0.0668153104781061), (194, 0.0668153104781061), (204, 0.0668153104781061), (218, 0.0668153104781061), (236, 0.0668153104781061), (261, 0.0668153104781061), (263, 0.0668153104781061), (275, 0.0668153104781061), (364, 0.0668153104781061), (372, 0.0668153104781061), (382, 0.0668153104781061), (390, 0.0668153104781061), (399, 0.0668153104781061), (400, 0.0668153104781061), (401, 0.0668153104781061), (413, 0.0668153104781061), (420, 0.0668153104781061), (435, 0.0668153104781061), (443, 0.0668153104781061), (449, 0.0668153104781061), (451, 0.0668153104781061), (466, 0.0668153104781061), (478, 0.0668153104781061), (482, 0.0668153104781061), (483, 0.0668153104781061), (486, 0.0668153104781061), (488, 0.0668153104781061), (499, 0.0668153104781061), (515, 0.0668153104781061), (522, 0.0668153104781061), (524, 0.0668153104781061), (534, 0.0668153104781061), (548, 0.0668153104781061), (551, 0.0668153104781061), (562, 0.0668153104781061), (587, 0.0668153104781061), (620, 0.0668153104781061), (623, 0.0668153104781061), (642, 0.0668153104781061), (643, 0.0668153104781061), (648, 0.0668153104781061), (652, 0.0668153104781061), (675, 0.0668153104781061), (699, 0.0668153104781061), (718, 0.0668153104781061), (729, 0.0668153104781061), (734, 0.0668153104781061), (756, 0.0668153104781061), (765, 0.0668153104781061), (789, 0.0668153104781061), (801, 0.0668153104781061), (824, 0.0668153104781061), (825, 0.0668153104781061), (834, 0.0668153104781061), (836, 0.0668153104781061), (839, 0.0668153104781061), (841, 0.0668153104781061), (850, 0.0668153104781061), (851, 0.0668153104781061), (865, 0.0668153104781061), (873, 0.0668153104781061), (885, 0.0668153104781061), (896, 0.0668153104781061), (902, 0.0668153104781061), (907, 0.0668153104781061), (930, 0.0668153104781061), (968, 0.0668153104781061), (981, 0.0668153104781061), (987, 0.0668153104781061), (989, 0.0668153104781061), (11, 0.06454972243679027), (14, 0.06454972243679027), (16, 0.06454972243679027), (20, 0.06454972243679027), (23, 0.06454972243679027), (53, 0.06454972243679027), (57, 0.06454972243679027), (58, 0.06454972243679027), (69, 0.06454972243679027), (77, 0.06454972243679027), (93, 0.06454972243679027), (117, 0.06454972243679027), (139, 0.06454972243679027), (150, 0.06454972243679027), (153, 0.06454972243679027), (159, 0.06454972243679027), (172, 0.06454972243679027), (179, 0.06454972243679027), (182, 0.06454972243679027), (202, 0.06454972243679027), (206, 0.06454972243679027), (210, 0.06454972243679027), (211, 0.06454972243679027), (222, 0.06454972243679027), (232, 0.06454972243679027), (239, 0.06454972243679027), (247, 0.06454972243679027), (250, 0.06454972243679027), (277, 0.06454972243679027), (301, 0.06454972243679027), (303, 0.06454972243679027), (318, 0.06454972243679027), (321, 0.06454972243679027), (331, 0.06454972243679027), (334, 0.06454972243679027), (335, 0.06454972243679027), (341, 0.06454972243679027), (353, 0.06454972243679027), (356, 0.06454972243679027), (359, 0.06454972243679027), (369, 0.06454972243679027), (376, 0.06454972243679027), (379, 0.06454972243679027), (385, 0.06454972243679027), (455, 0.06454972243679027), (470, 0.06454972243679027), (471, 0.06454972243679027), (485, 0.06454972243679027), (487, 0.06454972243679027), (513, 0.06454972243679027), (530, 0.06454972243679027), (538, 0.06454972243679027), (543, 0.06454972243679027), (557, 0.06454972243679027), (569, 0.06454972243679027), (573, 0.06454972243679027), (584, 0.06454972243679027), (600, 0.06454972243679027), (610, 0.06454972243679027), (621, 0.06454972243679027), (625, 0.06454972243679027), (641, 0.06454972243679027), (665, 0.06454972243679027), (669, 0.06454972243679027), (670, 0.06454972243679027), (671, 0.06454972243679027), (676, 0.06454972243679027), (682, 0.06454972243679027), (691, 0.06454972243679027), (693, 0.06454972243679027), (694, 0.06454972243679027), (720, 0.06454972243679027), (721, 0.06454972243679027), (728, 0.06454972243679027), (736, 0.06454972243679027), (743, 0.06454972243679027), (752, 0.06454972243679027), (754, 0.06454972243679027), (760, 0.06454972243679027), (771, 0.06454972243679027), (780, 0.06454972243679027), (782, 0.06454972243679027), (808, 0.06454972243679027), (810, 0.06454972243679027), (812, 0.06454972243679027), (817, 0.06454972243679027), (826, 0.06454972243679027), (857, 0.06454972243679027), (860, 0.06454972243679027), (880, 0.06454972243679027), (898, 0.06454972243679027), (914, 0.06454972243679027), (922, 0.06454972243679027), (931, 0.06454972243679027), (955, 0.06454972243679027), (958, 0.06454972243679027), (5, 0.0625), (22, 0.0625), (38, 0.0625), (39, 0.0625), (42, 0.0625), (95, 0.0625), (104, 0.0625), (116, 0.0625), (130, 0.0625), (157, 0.0625), (167, 0.0625), (184, 0.0625), (187, 0.0625), (196, 0.0625), (201, 0.0625), (221, 0.0625), (230, 0.0625), (231, 0.0625), (262, 0.0625), (280, 0.0625), (294, 0.0625), (300, 0.0625), (305, 0.0625), (309, 0.0625), (332, 0.0625), (333, 0.0625), (342, 0.0625), (345, 0.0625), (358, 0.0625), (368, 0.0625), (383, 0.0625), (387, 0.0625), (406, 0.0625), (424, 0.0625), (445, 0.0625), (469, 0.0625), (480, 0.0625), (498, 0.0625), (502, 0.0625), (514, 0.0625), (523, 0.0625), (527, 0.0625), (537, 0.0625), (570, 0.0625), (574, 0.0625), (581, 0.0625), (593, 0.0625), (596, 0.0625), (615, 0.0625), (630, 0.0625), (695, 0.0625), (704, 0.0625), (705, 0.0625), (737, 0.0625), (747, 0.0625), (758, 0.0625), (791, 0.0625), (818, 0.0625), (819, 0.0625), (820, 0.0625), (858, 0.0625), (861, 0.0625), (912, 0.0625), (934, 0.0625), (936, 0.0625), (969, 0.0625), (972, 0.0625), (974, 0.0625), (980, 0.0625), (6, 0.06063390625908324), (8, 0.06063390625908324), (15, 0.06063390625908324), (96, 0.06063390625908324), (105, 0.06063390625908324), (214, 0.06063390625908324), (224, 0.06063390625908324), (233, 0.06063390625908324), (271, 0.06063390625908324), (273, 0.06063390625908324), (286, 0.06063390625908324), (311, 0.06063390625908324), (336, 0.06063390625908324), (337, 0.06063390625908324), (378, 0.06063390625908324), (504, 0.06063390625908324), (505, 0.06063390625908324), (519, 0.06063390625908324), (575, 0.06063390625908324), (711, 0.06063390625908324), (712, 0.06063390625908324), (714, 0.06063390625908324), (732, 0.06063390625908324), (741, 0.06063390625908324), (744, 0.06063390625908324), (785, 0.06063390625908324), (793, 0.06063390625908324), (870, 0.06063390625908324), (879, 0.06063390625908324), (900, 0.06063390625908324), (916, 0.06063390625908324), (919, 0.06063390625908324), (967, 0.06063390625908324), (82, 0.05892556509887897), (171, 0.05892556509887897), (265, 0.05892556509887897), (290, 0.05892556509887897), (325, 0.05892556509887897), (384, 0.05892556509887897), (423, 0.05892556509887897), (428, 0.05892556509887897), (438, 0.05892556509887897), (440, 0.05892556509887897), (474, 0.05892556509887897), (506, 0.05892556509887897), (535, 0.05892556509887897), (539, 0.05892556509887897), (617, 0.05892556509887897), (696, 0.05892556509887897), (827, 0.05892556509887897), (830, 0.05892556509887897), (837, 0.05892556509887897), (881, 0.05892556509887897), (905, 0.05892556509887897), (915, 0.05892556509887897), (975, 0.05892556509887897), (50, 0.057353933467640436), (86, 0.057353933467640436), (110, 0.057353933467640436), (120, 0.057353933467640436), (136, 0.057353933467640436), (186, 0.057353933467640436), (306, 0.057353933467640436), (320, 0.057353933467640436), (434, 0.057353933467640436), (507, 0.057353933467640436), (560, 0.057353933467640436), (609, 0.057353933467640436), (772, 0.057353933467640436), (809, 0.057353933467640436), (889, 0.057353933467640436), (45, 0.05590169943749474), (63, 0.05590169943749474), (75, 0.05590169943749474), (78, 0.05590169943749474), (252, 0.05590169943749474), (299, 0.05590169943749474), (418, 0.05590169943749474), (583, 0.05590169943749474), (683, 0.05590169943749474), (784, 0.05590169943749474), (874, 0.05590169943749474), (910, 0.05590169943749474), (991, 0.05590169943749474), (264, 0.0545544725589981), (602, 0.0545544725589981), (803, 0.0545544725589981), (935, 0.0545544725589981), (806, 0.053300179088902604), (862, 0.053300179088902604), (380, 0.051031036307982884), (745, 0.051031036307982884), (2, 0.0), (4, 0.0), (7, 0.0), (10, 0.0), (13, 0.0), (17, 0.0), (25, 0.0), (27, 0.0), (28, 0.0), (33, 0.0), (37, 0.0), (40, 0.0), (51, 0.0), (56, 0.0), (74, 0.0), (79, 0.0), (84, 0.0), (87, 0.0), (91, 0.0), (101, 0.0), (113, 0.0), (115, 0.0), (119, 0.0), (122, 0.0), (123, 0.0), (128, 0.0), (134, 0.0), (141, 0.0), (149, 0.0), (160, 0.0), (161, 0.0), (163, 0.0), (164, 0.0), (166, 0.0), (169, 0.0), (174, 0.0), (177, 0.0), (180, 0.0), (199, 0.0), (208, 0.0), (215, 0.0), (217, 0.0), (219, 0.0), (228, 0.0), (241, 0.0), (242, 0.0), (248, 0.0), (258, 0.0), (266, 0.0), (269, 0.0), (270, 0.0), (272, 0.0), (274, 0.0), (276, 0.0), (278, 0.0), (281, 0.0), (282, 0.0), (284, 0.0), (285, 0.0), (288, 0.0), (289, 0.0), (291, 0.0), (292, 0.0), (296, 0.0), (304, 0.0), (319, 0.0), (322, 0.0), (328, 0.0), (330, 0.0), (339, 0.0), (340, 0.0), (343, 0.0), (344, 0.0), (346, 0.0), (348, 0.0), (349, 0.0), (355, 0.0), (360, 0.0), (363, 0.0), (373, 0.0), (375, 0.0), (386, 0.0), (393, 0.0), (394, 0.0), (397, 0.0), (402, 0.0), (403, 0.0), (407, 0.0), (409, 0.0), (410, 0.0), (411, 0.0), (412, 0.0), (414, 0.0), (422, 0.0), (426, 0.0), (431, 0.0), (432, 0.0), (433, 0.0), (439, 0.0), (442, 0.0), (448, 0.0), (453, 0.0), (457, 0.0), (458, 0.0), (464, 0.0), (465, 0.0), (477, 0.0), (484, 0.0), (489, 0.0), (493, 0.0), (496, 0.0), (508, 0.0), (520, 0.0), (531, 0.0), (547, 0.0), (561, 0.0), (563, 0.0), (571, 0.0), (580, 0.0), (582, 0.0), (585, 0.0), (589, 0.0), (594, 0.0), (597, 0.0), (599, 0.0), (603, 0.0), (607, 0.0), (618, 0.0), (624, 0.0), (634, 0.0), (635, 0.0), (639, 0.0), (647, 0.0), (649, 0.0), (653, 0.0), (657, 0.0), (660, 0.0), (667, 0.0), (688, 0.0), (698, 0.0), (701, 0.0), (702, 0.0), (716, 0.0), (719, 0.0), (722, 0.0), (723, 0.0), (725, 0.0), (726, 0.0), (746, 0.0), (748, 0.0), (749, 0.0), (753, 0.0), (770, 0.0), (776, 0.0), (777, 0.0), (778, 0.0), (783, 0.0), (787, 0.0), (788, 0.0), (790, 0.0), (792, 0.0), (794, 0.0), (795, 0.0), (797, 0.0), (800, 0.0), (802, 0.0), (804, 0.0), (811, 0.0), (813, 0.0), (814, 0.0), (828, 0.0), (829, 0.0), (831, 0.0), (833, 0.0), (840, 0.0), (844, 0.0), (846, 0.0), (848, 0.0), (854, 0.0), (868, 0.0), (869, 0.0), (871, 0.0), (872, 0.0), (876, 0.0), (883, 0.0), (888, 0.0), (891, 0.0), (894, 0.0), (895, 0.0), (899, 0.0), (901, 0.0), (903, 0.0), (923, 0.0), (928, 0.0), (942, 0.0), (943, 0.0), (956, 0.0), (963, 0.0), (966, 0.0), (970, 0.0), (977, 0.0), (983, 0.0), (984, 0.0), (985, 0.0), (986, 0.0), (988, 0.0), (993, 0.0), (994, 0.0), (996, 0.0), (998, 0.0), (999, 0.0)]\n"
     ]
    }
   ],
   "source": [
    "print(sorted_scores)"
   ]
  },
  {
   "cell_type": "code",
   "execution_count": 28,
   "metadata": {},
   "outputs": [],
   "source": [
    "i=0"
   ]
  },
  {
   "cell_type": "code",
   "execution_count": 29,
   "metadata": {},
   "outputs": [
    {
     "name": "stdout",
     "output_type": "stream",
     "text": [
      "Similar Movies to  The Prestige  are: \n",
      "\n",
      "1 The Dark Knight\n",
      "2 The Fountain\n",
      "3 Under the Skin\n",
      "4 Arrival\n",
      "5 Interstellar\n",
      "6 Her\n",
      "7 Predestination\n"
     ]
    }
   ],
   "source": [
    "print(\"Similar Movies to \",title,\" are: \\n\")\n",
    "for item in sorted_scores:\n",
    "    movie_title = df[df[\"Movie_ID\"]==item[0]][\"Title\"].values[0]\n",
    "    print(i+1, movie_title)\n",
    "    i=i+1\n",
    "    if i>6:\n",
    "        break"
   ]
  },
  {
   "cell_type": "code",
   "execution_count": null,
   "metadata": {},
   "outputs": [],
   "source": []
  },
  {
   "cell_type": "code",
   "execution_count": null,
   "metadata": {},
   "outputs": [],
   "source": []
  }
 ],
 "metadata": {
  "kernelspec": {
   "display_name": "Python 3 (ipykernel)",
   "language": "python",
   "name": "python3"
  },
  "language_info": {
   "codemirror_mode": {
    "name": "ipython",
    "version": 3
   },
   "file_extension": ".py",
   "mimetype": "text/x-python",
   "name": "python",
   "nbconvert_exporter": "python",
   "pygments_lexer": "ipython3",
   "version": "3.9.7"
  }
 },
 "nbformat": 4,
 "nbformat_minor": 4
}
